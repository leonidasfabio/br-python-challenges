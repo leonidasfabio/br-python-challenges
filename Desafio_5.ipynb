{
  "nbformat": 4,
  "nbformat_minor": 0,
  "metadata": {
    "colab": {
      "name": "Desafio 5.ipynb",
      "provenance": [],
      "collapsed_sections": [],
      "include_colab_link": true
    },
    "kernelspec": {
      "name": "python3",
      "display_name": "Python 3"
    }
  },
  "cells": [
    {
      "cell_type": "markdown",
      "metadata": {
        "id": "view-in-github",
        "colab_type": "text"
      },
      "source": [
        "<a href=\"https://colab.research.google.com/github/leonidasfabio/br-python-challenges/blob/master/Desafio_5.ipynb\" target=\"_parent\"><img src=\"https://colab.research.google.com/assets/colab-badge.svg\" alt=\"Open In Colab\"/></a>"
      ]
    },
    {
      "cell_type": "markdown",
      "metadata": {
        "id": "gQbaWOWcW1g_"
      },
      "source": [
        "# Desafio 5\n",
        "Você trabalha em uma loja de sapatos e deve contatar uma lista de clientes dada pela seguinte lista de números de telefones:"
      ]
    },
    {
      "cell_type": "code",
      "metadata": {
        "id": "T68FjcUmWear"
      },
      "source": [
        "numeros_telefone = [\n",
        "'(765) 368-1506',\n",
        "'(285) 608-2448',\n",
        "'(255) 826-9050',\n",
        "'(554) 994-1517',\n",
        "'(285) 608-2448',\n",
        "'(596) 336-5508',\n",
        "'(511) 821-7870',\n",
        "'(410) 665-4447',\n",
        "'(821) 642-8987',\n",
        "'(285) 608-2448',\n",
        "'(311) 799-3883',\n",
        "'(935) 875-2054',\n",
        "'(464) 788-2397',\n",
        "'(765) 368-1506',\n",
        "'(650) 684-1437',\n",
        "'(812) 816-0881',\n",
        "'(285) 608-2448',\n",
        "'(885) 407-1719',\n",
        "'(943) 769-1061',\n",
        "'(596) 336-5508',\n",
        "'(765) 368-1506',\n",
        "'(255) 826-9050',\n",
        "]"
      ],
      "execution_count": null,
      "outputs": []
    },
    {
      "cell_type": "markdown",
      "metadata": {
        "id": "ryYrStScXgZ3"
      },
      "source": [
        "No entanto, alguns destes números estão duplicados. Você seria capaz de remover estes duplicados para evitar que clientes sejam contatado mais de uma vez?"
      ]
    },
    {
      "cell_type": "code",
      "metadata": {
        "id": "F8n1sN-4XrW3"
      },
      "source": [
        "# Utilizei o método 'set' para já retirar os números telefônicos repetidos\n",
        "\n",
        "numeros_sem_repetir = set(numeros_telefone)"
      ],
      "execution_count": null,
      "outputs": []
    },
    {
      "cell_type": "code",
      "metadata": {
        "id": "yAaNmeWDxQYc",
        "outputId": "1d9bbbc5-5e60-45be-f6d4-4dc01d7a83dd",
        "colab": {
          "base_uri": "https://localhost:8080/",
          "height": 283
        }
      },
      "source": [
        "numeros_sem_repetir"
      ],
      "execution_count": null,
      "outputs": [
        {
          "output_type": "execute_result",
          "data": {
            "text/plain": [
              "{'(255) 826-9050',\n",
              " '(285) 608-2448',\n",
              " '(311) 799-3883',\n",
              " '(410) 665-4447',\n",
              " '(464) 788-2397',\n",
              " '(511) 821-7870',\n",
              " '(554) 994-1517',\n",
              " '(596) 336-5508',\n",
              " '(650) 684-1437',\n",
              " '(765) 368-1506',\n",
              " '(812) 816-0881',\n",
              " '(821) 642-8987',\n",
              " '(885) 407-1719',\n",
              " '(935) 875-2054',\n",
              " '(943) 769-1061'}"
            ]
          },
          "metadata": {
            "tags": []
          },
          "execution_count": 3
        }
      ]
    },
    {
      "cell_type": "code",
      "metadata": {
        "id": "9eLDJ6S_xRf_",
        "outputId": "2f34678a-5a55-48c6-e7ff-a8ce41171cc2",
        "colab": {
          "base_uri": "https://localhost:8080/",
          "height": 34
        }
      },
      "source": [
        "type(numeros_sem_repetir)"
      ],
      "execution_count": null,
      "outputs": [
        {
          "output_type": "execute_result",
          "data": {
            "text/plain": [
              "set"
            ]
          },
          "metadata": {
            "tags": []
          },
          "execution_count": 4
        }
      ]
    },
    {
      "cell_type": "code",
      "metadata": {
        "id": "XCGs2uf0xUnj"
      },
      "source": [
        "# Tornei o set uma nova lista\n",
        "\n",
        "numeros_sem_repetir = list(numeros_sem_repetir)"
      ],
      "execution_count": null,
      "outputs": []
    },
    {
      "cell_type": "code",
      "metadata": {
        "id": "DaxyDdVsxbO0",
        "outputId": "245a6fe7-2d9d-44a4-baf6-3f06ae3a6401",
        "colab": {
          "base_uri": "https://localhost:8080/",
          "height": 283
        }
      },
      "source": [
        "numeros_sem_repetir"
      ],
      "execution_count": null,
      "outputs": [
        {
          "output_type": "execute_result",
          "data": {
            "text/plain": [
              "['(765) 368-1506',\n",
              " '(885) 407-1719',\n",
              " '(255) 826-9050',\n",
              " '(943) 769-1061',\n",
              " '(511) 821-7870',\n",
              " '(650) 684-1437',\n",
              " '(410) 665-4447',\n",
              " '(935) 875-2054',\n",
              " '(821) 642-8987',\n",
              " '(464) 788-2397',\n",
              " '(554) 994-1517',\n",
              " '(812) 816-0881',\n",
              " '(285) 608-2448',\n",
              " '(596) 336-5508',\n",
              " '(311) 799-3883']"
            ]
          },
          "metadata": {
            "tags": []
          },
          "execution_count": 6
        }
      ]
    },
    {
      "cell_type": "markdown",
      "metadata": {
        "id": "8zv8vK8uxq4q"
      },
      "source": [
        "## Posso Criar Uma Função Para Isso\n",
        "Para treino, criei uma função para realizar tal procedimento."
      ]
    },
    {
      "cell_type": "code",
      "metadata": {
        "id": "DPBrVd3nyMvx"
      },
      "source": [
        "numeros_telefone2 = [\n",
        "'(765) 368-1506',\n",
        "'(285) 608-2448',\n",
        "'(255) 826-9050',\n",
        "'(554) 994-1517',\n",
        "'(285) 608-2448',\n",
        "'(596) 336-5508',\n",
        "'(511) 821-7870',\n",
        "'(410) 665-4447',\n",
        "'(821) 642-8987',\n",
        "'(285) 608-2448',\n",
        "'(311) 799-3883',\n",
        "'(935) 875-2054',\n",
        "'(464) 788-2397',\n",
        "'(765) 368-1506',\n",
        "'(650) 684-1437',\n",
        "'(812) 816-0881',\n",
        "'(285) 608-2448',\n",
        "'(885) 407-1719',\n",
        "'(943) 769-1061',\n",
        "'(596) 336-5508',\n",
        "'(765) 368-1506',\n",
        "'(255) 826-9050',\n",
        "]"
      ],
      "execution_count": null,
      "outputs": []
    },
    {
      "cell_type": "code",
      "metadata": {
        "id": "mJ35vuOIxcHp"
      },
      "source": [
        "def retira_repetido(x):\n",
        "  nro_sem_repetir = set(x)\n",
        "  x = list(nro_sem_repetir)\n",
        "  return x  "
      ],
      "execution_count": null,
      "outputs": []
    },
    {
      "cell_type": "code",
      "metadata": {
        "id": "KPzsc7YWyRu4",
        "outputId": "df8b6712-2378-4180-89f7-917b45d1b606",
        "colab": {
          "base_uri": "https://localhost:8080/",
          "height": 283
        }
      },
      "source": [
        "retira_repetido(numeros_telefone2)"
      ],
      "execution_count": null,
      "outputs": [
        {
          "output_type": "execute_result",
          "data": {
            "text/plain": [
              "['(765) 368-1506',\n",
              " '(885) 407-1719',\n",
              " '(255) 826-9050',\n",
              " '(943) 769-1061',\n",
              " '(511) 821-7870',\n",
              " '(650) 684-1437',\n",
              " '(410) 665-4447',\n",
              " '(935) 875-2054',\n",
              " '(821) 642-8987',\n",
              " '(464) 788-2397',\n",
              " '(554) 994-1517',\n",
              " '(812) 816-0881',\n",
              " '(285) 608-2448',\n",
              " '(596) 336-5508',\n",
              " '(311) 799-3883']"
            ]
          },
          "metadata": {
            "tags": []
          },
          "execution_count": 9
        }
      ]
    },
    {
      "cell_type": "code",
      "metadata": {
        "id": "6fqdvqxUyUj1"
      },
      "source": [
        "# Crio uma nova lista utilizando a função\n",
        "\n",
        "nova_lista = retira_repetido(numeros_telefone2)"
      ],
      "execution_count": null,
      "outputs": []
    },
    {
      "cell_type": "code",
      "metadata": {
        "id": "t5BR3f8EyW9D",
        "outputId": "917e0a0e-7478-46fb-ed3b-09f0910af0ec",
        "colab": {
          "base_uri": "https://localhost:8080/",
          "height": 54
        }
      },
      "source": [
        "print(nova_lista)"
      ],
      "execution_count": null,
      "outputs": [
        {
          "output_type": "stream",
          "text": [
            "['(765) 368-1506', '(885) 407-1719', '(255) 826-9050', '(943) 769-1061', '(511) 821-7870', '(650) 684-1437', '(410) 665-4447', '(935) 875-2054', '(821) 642-8987', '(464) 788-2397', '(554) 994-1517', '(812) 816-0881', '(285) 608-2448', '(596) 336-5508', '(311) 799-3883']\n"
          ],
          "name": "stdout"
        }
      ]
    },
    {
      "cell_type": "code",
      "metadata": {
        "id": "Dl0bLT6gyg4l",
        "outputId": "eb9fcd08-2507-4cd1-8623-b5d081c0b80c",
        "colab": {
          "base_uri": "https://localhost:8080/",
          "height": 283
        }
      },
      "source": [
        "nova_lista"
      ],
      "execution_count": null,
      "outputs": [
        {
          "output_type": "execute_result",
          "data": {
            "text/plain": [
              "['(765) 368-1506',\n",
              " '(885) 407-1719',\n",
              " '(255) 826-9050',\n",
              " '(943) 769-1061',\n",
              " '(511) 821-7870',\n",
              " '(650) 684-1437',\n",
              " '(410) 665-4447',\n",
              " '(935) 875-2054',\n",
              " '(821) 642-8987',\n",
              " '(464) 788-2397',\n",
              " '(554) 994-1517',\n",
              " '(812) 816-0881',\n",
              " '(285) 608-2448',\n",
              " '(596) 336-5508',\n",
              " '(311) 799-3883']"
            ]
          },
          "metadata": {
            "tags": []
          },
          "execution_count": 13
        }
      ]
    },
    {
      "cell_type": "code",
      "metadata": {
        "id": "lhT6g3Wlyl0Q"
      },
      "source": [
        ""
      ],
      "execution_count": null,
      "outputs": []
    }
  ]
}