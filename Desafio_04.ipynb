{
  "nbformat": 4,
  "nbformat_minor": 0,
  "metadata": {
    "anaconda-cloud": {},
    "kernelspec": {
      "display_name": "Python 3",
      "language": "python",
      "name": "python3"
    },
    "language_info": {
      "codemirror_mode": {
        "name": "ipython",
        "version": 3
      },
      "file_extension": ".py",
      "mimetype": "text/x-python",
      "name": "python",
      "nbconvert_exporter": "python",
      "pygments_lexer": "ipython3",
      "version": "3.6.5"
    },
    "colab": {
      "name": "Desafio 4.ipynb",
      "provenance": [],
      "include_colab_link": true
    }
  },
  "cells": [
    {
      "cell_type": "markdown",
      "metadata": {
        "id": "view-in-github",
        "colab_type": "text"
      },
      "source": [
        "<a href=\"https://colab.research.google.com/github/leonidasfabio/br-python-challenges/blob/master/Desafio_04.ipynb\" target=\"_parent\"><img src=\"https://colab.research.google.com/assets/colab-badge.svg\" alt=\"Open In Colab\"/></a>"
      ]
    },
    {
      "cell_type": "markdown",
      "metadata": {
        "id": "dOqcKUYZf6JW",
        "colab_type": "text"
      },
      "source": [
        "### Desafio 4\n",
        "\n",
        "Escreva uma função que receba uma string como parâmetro e retorne outra string com as palavras em ordem inversa.\n",
        "\n",
        "Exemplo:\n",
        "\n",
        "inverte_texto(\"Python é legal\") ➞ \"legal é Python\""
      ]
    },
    {
      "cell_type": "code",
      "metadata": {
        "id": "I5TInJDaf6JW",
        "colab_type": "code",
        "colab": {
          "base_uri": "https://localhost:8080/",
          "height": 35
        },
        "outputId": "d7b4b56e-1185-4658-d88d-3fb6d919b8cd"
      },
      "source": [
        "# Seu código\n",
        "texto1 = 'Python é legal'\n",
        "texto1"
      ],
      "execution_count": 86,
      "outputs": [
        {
          "output_type": "execute_result",
          "data": {
            "application/vnd.google.colaboratory.intrinsic+json": {
              "type": "string"
            },
            "text/plain": [
              "'Python é legal'"
            ]
          },
          "metadata": {
            "tags": []
          },
          "execution_count": 86
        }
      ]
    },
    {
      "cell_type": "code",
      "metadata": {
        "id": "VUR5r_v9Ep44",
        "colab_type": "code",
        "colab": {}
      },
      "source": [
        "# Primeiro busquei tornar a string em uma lista e invertê-la.\n",
        "\n",
        "def inversor(s):\n",
        "  inversor_list = list(s.split())\n",
        "  volta_string = str(inversor_list[::-1])\n",
        "  print(volta_string)"
      ],
      "execution_count": 38,
      "outputs": []
    },
    {
      "cell_type": "code",
      "metadata": {
        "id": "IrlGwW-wGqRz",
        "colab_type": "code",
        "colab": {
          "base_uri": "https://localhost:8080/",
          "height": 34
        },
        "outputId": "a93787c0-e2f3-4873-ed01-5be8ee01e4a4"
      },
      "source": [
        "inversor(texto1)"
      ],
      "execution_count": 39,
      "outputs": [
        {
          "output_type": "stream",
          "text": [
            "['legal', 'é', 'Python']\n"
          ],
          "name": "stdout"
        }
      ]
    },
    {
      "cell_type": "code",
      "metadata": {
        "id": "dkgeYadcKSTq",
        "colab_type": "code",
        "colab": {}
      },
      "source": [
        "# Depois fui atrás de retirar os elementos.\n",
        "# Notei que quando colocava como 'print' não aparecia nem os \" ' \" do início e do fim do texto, então mudei para 'return'\n",
        "\n",
        "def inversor2(s):\n",
        "  inversor_list = list(s.split())\n",
        "  volta_string = str(inversor_list[::-1])\n",
        "  volta_string = str(volta_string).replace('[','').replace(']','').replace(',','').replace(\"'\",\"\")\n",
        "  return(volta_string)"
      ],
      "execution_count": 91,
      "outputs": []
    },
    {
      "cell_type": "code",
      "metadata": {
        "id": "HOxtR6HGKSI1",
        "colab_type": "code",
        "colab": {
          "base_uri": "https://localhost:8080/",
          "height": 35
        },
        "outputId": "dbe728a2-322b-41d8-c732-6ed7efd0784c"
      },
      "source": [
        "inversor2(texto1)"
      ],
      "execution_count": 92,
      "outputs": [
        {
          "output_type": "execute_result",
          "data": {
            "application/vnd.google.colaboratory.intrinsic+json": {
              "type": "string"
            },
            "text/plain": [
              "'legal é Python'"
            ]
          },
          "metadata": {
            "tags": []
          },
          "execution_count": 92
        }
      ]
    },
    {
      "cell_type": "code",
      "metadata": {
        "id": "lL2UAKQjDU9k",
        "colab_type": "code",
        "colab": {}
      },
      "source": [
        "def reverte_lista(s):\n",
        "  lista_temp = list(s)\n",
        "  lista_temp.reverse()\n",
        "  return (lista_temp)"
      ],
      "execution_count": 22,
      "outputs": []
    },
    {
      "cell_type": "code",
      "metadata": {
        "id": "26qlxI0yEVak",
        "colab_type": "code",
        "colab": {
          "base_uri": "https://localhost:8080/",
          "height": 34
        },
        "outputId": "1bb502d9-7115-4830-a8ad-9317ac1350be"
      },
      "source": [
        "reverte_lista(texto1)"
      ],
      "execution_count": 23,
      "outputs": [
        {
          "output_type": "execute_result",
          "data": {
            "text/plain": [
              "['l', 'a', 'g', 'e', 'l', ' ', 'é', ' ', 'n', 'o', 'h', 't', 'y', 'P']"
            ]
          },
          "metadata": {
            "tags": []
          },
          "execution_count": 23
        }
      ]
    },
    {
      "cell_type": "code",
      "metadata": {
        "id": "afu9bsczEg9T",
        "colab_type": "code",
        "colab": {
          "base_uri": "https://localhost:8080/",
          "height": 34
        },
        "outputId": "58376d76-5507-4962-9435-083c06a8f9f8"
      },
      "source": [
        "list(texto1)"
      ],
      "execution_count": 24,
      "outputs": [
        {
          "output_type": "execute_result",
          "data": {
            "text/plain": [
              "['P', 'y', 't', 'h', 'o', 'n', ' ', 'é', ' ', 'l', 'e', 'g', 'a', 'l']"
            ]
          },
          "metadata": {
            "tags": []
          },
          "execution_count": 24
        }
      ]
    },
    {
      "cell_type": "code",
      "metadata": {
        "id": "_PbMqQ7lFH1i",
        "colab_type": "code",
        "colab": {}
      },
      "source": [
        "for i in reversed(texto1):\n",
        "  print(i)"
      ],
      "execution_count": null,
      "outputs": []
    },
    {
      "cell_type": "code",
      "metadata": {
        "id": "VdeIK9GaIEc3",
        "colab_type": "code",
        "colab": {
          "base_uri": "https://localhost:8080/",
          "height": 34
        },
        "outputId": "bc9d3e5c-6ac3-484d-e9ed-001849c31205"
      },
      "source": [
        "listinha = texto1.split()\n",
        "listinha"
      ],
      "execution_count": 56,
      "outputs": [
        {
          "output_type": "execute_result",
          "data": {
            "text/plain": [
              "['Python', 'é', 'legal']"
            ]
          },
          "metadata": {
            "tags": []
          },
          "execution_count": 56
        }
      ]
    },
    {
      "cell_type": "code",
      "metadata": {
        "id": "cdzQxjhAIcS3",
        "colab_type": "code",
        "colab": {
          "base_uri": "https://localhost:8080/",
          "height": 34
        },
        "outputId": "52e2324d-332e-4919-b166-b4330cb98804"
      },
      "source": [
        "listinha"
      ],
      "execution_count": 57,
      "outputs": [
        {
          "output_type": "execute_result",
          "data": {
            "text/plain": [
              "['Python', 'é', 'legal']"
            ]
          },
          "metadata": {
            "tags": []
          },
          "execution_count": 57
        }
      ]
    },
    {
      "cell_type": "code",
      "metadata": {
        "id": "wTouHO_qIvf6",
        "colab_type": "code",
        "colab": {}
      },
      "source": [
        "listinha.reverse()"
      ],
      "execution_count": 58,
      "outputs": []
    },
    {
      "cell_type": "code",
      "metadata": {
        "id": "SCBuPZVxJPdM",
        "colab_type": "code",
        "colab": {
          "base_uri": "https://localhost:8080/",
          "height": 34
        },
        "outputId": "59f47bf5-d455-4b16-e3cf-20926611a82e"
      },
      "source": [
        "listinha"
      ],
      "execution_count": 59,
      "outputs": [
        {
          "output_type": "execute_result",
          "data": {
            "text/plain": [
              "['legal', 'é', 'Python']"
            ]
          },
          "metadata": {
            "tags": []
          },
          "execution_count": 59
        }
      ]
    },
    {
      "cell_type": "code",
      "metadata": {
        "id": "3RATe-j7JSrG",
        "colab_type": "code",
        "colab": {
          "base_uri": "https://localhost:8080/",
          "height": 35
        },
        "outputId": "f21fc566-78ed-4bc2-df2d-deba57d73595"
      },
      "source": [
        "str(listinha).replace('[','').replace(']','').replace(',','').replace(\"'\",\"\")"
      ],
      "execution_count": 64,
      "outputs": [
        {
          "output_type": "execute_result",
          "data": {
            "application/vnd.google.colaboratory.intrinsic+json": {
              "type": "string"
            },
            "text/plain": [
              "'legal é Python'"
            ]
          },
          "metadata": {
            "tags": []
          },
          "execution_count": 64
        }
      ]
    },
    {
      "cell_type": "code",
      "metadata": {
        "id": "x9E9AQNPJmU0",
        "colab_type": "code",
        "colab": {}
      },
      "source": [
        ""
      ],
      "execution_count": null,
      "outputs": []
    }
  ]
}