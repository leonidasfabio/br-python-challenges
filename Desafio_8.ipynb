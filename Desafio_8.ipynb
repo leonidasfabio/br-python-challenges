{
  "nbformat": 4,
  "nbformat_minor": 0,
  "metadata": {
    "anaconda-cloud": {},
    "kernelspec": {
      "display_name": "Python 3",
      "language": "python",
      "name": "python3"
    },
    "language_info": {
      "codemirror_mode": {
        "name": "ipython",
        "version": 3
      },
      "file_extension": ".py",
      "mimetype": "text/x-python",
      "name": "python",
      "nbconvert_exporter": "python",
      "pygments_lexer": "ipython3",
      "version": "3.6.5"
    },
    "colab": {
      "name": "Desafio 8.ipynb",
      "provenance": [],
      "collapsed_sections": [],
      "include_colab_link": true
    }
  },
  "cells": [
    {
      "cell_type": "markdown",
      "metadata": {
        "id": "view-in-github",
        "colab_type": "text"
      },
      "source": [
        "<a href=\"https://colab.research.google.com/github/leonidasfabio/br-python-challenges/blob/master/Desafio_8.ipynb\" target=\"_parent\"><img src=\"https://colab.research.google.com/assets/colab-badge.svg\" alt=\"Open In Colab\"/></a>"
      ]
    },
    {
      "cell_type": "markdown",
      "metadata": {
        "id": "o3tkeMDNf6Jo"
      },
      "source": [
        "### Desafio 8\n",
        "\n",
        "Escreva um script Python para encontrar as 10 palavras mais longas em um arquivo.\n",
        "\n",
        "O arquivo TXT está localizado na mesma pasta do projeto (texto.txt)."
      ]
    },
    {
      "cell_type": "code",
      "metadata": {
        "id": "EknxjSG0f6Jo",
        "outputId": "d556994f-5f99-47f6-f2de-ab6a24b4f668",
        "colab": {
          "base_uri": "https://localhost:8080/",
          "height": 212
        }
      },
      "source": [
        "# comandinho de linux que fica por tras. Baixando temporariamente.\n",
        "!wget https://raw.githubusercontent.com/leonidasfabio/br-python-challenges/master/texto.txt"
      ],
      "execution_count": 1,
      "outputs": [
        {
          "output_type": "stream",
          "text": [
            "--2020-09-29 22:10:30--  https://raw.githubusercontent.com/leonidasfabio/br-python-challenges/master/texto.txt\n",
            "Resolving raw.githubusercontent.com (raw.githubusercontent.com)... 151.101.0.133, 151.101.64.133, 151.101.128.133, ...\n",
            "Connecting to raw.githubusercontent.com (raw.githubusercontent.com)|151.101.0.133|:443... connected.\n",
            "HTTP request sent, awaiting response... 200 OK\n",
            "Length: 766 [text/plain]\n",
            "Saving to: ‘texto.txt’\n",
            "\n",
            "texto.txt           100%[===================>]     766  --.-KB/s    in 0s      \n",
            "\n",
            "2020-09-29 22:10:30 (34.3 MB/s) - ‘texto.txt’ saved [766/766]\n",
            "\n"
          ],
          "name": "stdout"
        }
      ]
    },
    {
      "cell_type": "code",
      "metadata": {
        "id": "ZYbqEWBG5nKx"
      },
      "source": [
        "# Usamos isso para abrir. Depois preciso pesquisar e entender mais afundo.\n",
        "# o split por padrão 'splita' por espaços. Mas tem palavras que tem pontos...\n",
        "# Aqui entra o fato de termos que fazer uma filtragem. Usar o replace, por exemplo.\n",
        "# Por fim dos replaces ja colocamos o split()\n",
        "\n",
        "with open('texto.txt','r') as txt:\n",
        "  texto = txt.read().replace('.',' ').replace('?',' ').replace('(',' ').replace(')',' ').split()"
      ],
      "execution_count": 10,
      "outputs": []
    },
    {
      "cell_type": "code",
      "metadata": {
        "id": "_hBuysLS68iP",
        "outputId": "59f3cb83-99ac-44c9-f495-54fe8b24e24d",
        "colab": {
          "base_uri": "https://localhost:8080/",
          "height": 34
        }
      },
      "source": [
        "type(texto)"
      ],
      "execution_count": 12,
      "outputs": [
        {
          "output_type": "execute_result",
          "data": {
            "text/plain": [
              "list"
            ]
          },
          "metadata": {
            "tags": []
          },
          "execution_count": 12
        }
      ]
    },
    {
      "cell_type": "code",
      "metadata": {
        "id": "TjV5N5N36_3v",
        "outputId": "beedb6f7-2fdd-4cec-d304-2e2687a69a59",
        "colab": {
          "base_uri": "https://localhost:8080/",
          "height": 35
        }
      },
      "source": [
        "texto[0]"
      ],
      "execution_count": 13,
      "outputs": [
        {
          "output_type": "execute_result",
          "data": {
            "application/vnd.google.colaboratory.intrinsic+json": {
              "type": "string"
            },
            "text/plain": [
              "'What'"
            ]
          },
          "metadata": {
            "tags": []
          },
          "execution_count": 13
        }
      ]
    },
    {
      "cell_type": "code",
      "metadata": {
        "id": "oJQSlsOn7RzE"
      },
      "source": [
        "# Utilizei o método .sort(), colocando a organização por tamanho DECRESCENTE, por isso o 'reverse=True'\n",
        "\n",
        "texto.sort(key=len, reverse=True)"
      ],
      "execution_count": 17,
      "outputs": []
    },
    {
      "cell_type": "code",
      "metadata": {
        "id": "g9s3fiK58dbC"
      },
      "source": [
        "texto"
      ],
      "execution_count": null,
      "outputs": []
    },
    {
      "cell_type": "code",
      "metadata": {
        "id": "bggvGqJp8ocg"
      },
      "source": [
        "texto_10 = texto[:10]"
      ],
      "execution_count": 21,
      "outputs": []
    },
    {
      "cell_type": "code",
      "metadata": {
        "id": "nnRPVKwe81CK",
        "outputId": "611474fc-f4df-4bb2-cc3e-7ce9c024b07f",
        "colab": {
          "base_uri": "https://localhost:8080/",
          "height": 194
        }
      },
      "source": [
        "texto_10"
      ],
      "execution_count": 22,
      "outputs": [
        {
          "output_type": "execute_result",
          "data": {
            "text/plain": [
              "['general-purpose,',\n",
              " 'object-oriented,',\n",
              " 'comprehensive',\n",
              " 'interpreted,',\n",
              " 'readability,',\n",
              " 'intermediate',\n",
              " 'high-level,',\n",
              " 'programming',\n",
              " 'programmers',\n",
              " 'programming']"
            ]
          },
          "metadata": {
            "tags": []
          },
          "execution_count": 22
        }
      ]
    },
    {
      "cell_type": "code",
      "metadata": {
        "id": "jDqMxoTP82WJ"
      },
      "source": [
        "'''\n",
        "OUTRA MANEIRA\n",
        "Sobre o que vamos ITERAR? O texto. Qual PARAMETRO? o len, ordenar o tamanho.\n",
        "Quando colocamos sorted e nao colcoamos o reverse ele coloca em crescente, mas queremos os 10 ultimos.\n",
        "\n",
        "lista_ordenada = sorted(texto,key=len,reverse=True)\n",
        "'''"
      ],
      "execution_count": null,
      "outputs": []
    }
  ]
}